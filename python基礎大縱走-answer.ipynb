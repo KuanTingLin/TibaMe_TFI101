{
 "cells": [
  {
   "cell_type": "markdown",
   "metadata": {},
   "source": [
    "# number"
   ]
  },
  {
   "cell_type": "markdown",
   "metadata": {},
   "source": [
    "## 1-1"
   ]
  },
  {
   "cell_type": "code",
   "execution_count": 4,
   "metadata": {
    "ExecuteTime": {
     "end_time": "2021-10-17T05:33:59.932373Z",
     "start_time": "2021-10-17T05:33:59.926047Z"
    }
   },
   "outputs": [
    {
     "data": {
      "text/plain": [
       "[10, 20, 30, 40, 50, 60, 70, 80, 90]"
      ]
     },
     "execution_count": 4,
     "metadata": {},
     "output_type": "execute_result"
    }
   ],
   "source": [
    "# 三的倍數\n",
    "# 五的倍數\n",
    "factor = 10\n",
    "range_numbers = range(1, 100)\n",
    "def find_multiple(data, factor):\n",
    "    return list(filter(lambda x:x % factor == 0, data))\n",
    "find_multiple(range_numbers, factor)"
   ]
  },
  {
   "cell_type": "markdown",
   "metadata": {},
   "source": [
    "## 1-2"
   ]
  },
  {
   "cell_type": "code",
   "execution_count": 24,
   "metadata": {
    "ExecuteTime": {
     "end_time": "2021-10-17T06:04:56.724293Z",
     "start_time": "2021-10-17T06:04:56.716350Z"
    }
   },
   "outputs": [
    {
     "data": {
      "text/plain": [
       "[210, 420, 630, 840]"
      ]
     },
     "execution_count": 24,
     "metadata": {},
     "output_type": "execute_result"
    }
   ],
   "source": [
    "# 公倍數\n",
    "from functools import reduce\n",
    "range_numbers = range(1, 1000)\n",
    "\n",
    "def find_common_multiple(data, x, y, *args, **kwargs):\n",
    "    # 每一個元素都要對所有的 factor 判斷一遍是否是倍數 --> 判斷條件，包含迴圈\n",
    "    # 只要其中一個不是倍數，就不要 --> filter --> and 條件\n",
    "    # (i % x == 0) and (i % y == 0) and (i % z == 0) and ... -> True or False\n",
    "    factors = [x, y] + list(args) + list(kwargs.values())\n",
    "    answer = []\n",
    "    for i in data:\n",
    "        for factor in factors:\n",
    "            if i % factor != 0:\n",
    "                break\n",
    "        else:\n",
    "            answer.append(i)\n",
    "    return answer\n",
    "\n",
    "def find_common_multiple(data, x, y, *args, **kwargs):\n",
    "    factors = [True, x, y] + list(args) + list(kwargs.values())\n",
    "    return list(filter(lambda i: reduce(lambda x, y: x and (i % y == 0), factors), data))\n",
    "\n",
    "\n",
    "find_common_multiple(range_numbers, 3, 5, 2, 7)"
   ]
  },
  {
   "cell_type": "markdown",
   "metadata": {},
   "source": [
    "## 1-3"
   ]
  },
  {
   "cell_type": "code",
   "execution_count": 50,
   "metadata": {
    "ExecuteTime": {
     "end_time": "2021-10-17T06:20:37.690290Z",
     "start_time": "2021-10-17T06:20:35.197341Z"
    }
   },
   "outputs": [
    {
     "name": "stdout",
     "output_type": "stream",
     "text": [
      "55555\n"
     ]
    },
    {
     "data": {
      "text/plain": [
       "25"
      ]
     },
     "execution_count": 50,
     "metadata": {},
     "output_type": "execute_result"
    }
   ],
   "source": [
    "# 加總各個位數的數字 (不做型別轉換)\n",
    "import math\n",
    "number = int(input())\n",
    "def sum_digit_number(number):\n",
    "    return sum([(number // 10**i) % 10 for i in range(int(math.log10(number))+1)])\n",
    "\n",
    "\n",
    "# def sum_digit_number(number):\n",
    "#     return sum([(number // 10**i) % 10 for i in range(int(math.log10(number))+1)])\n",
    "sum_digit_number(number)"
   ]
  },
  {
   "cell_type": "code",
   "execution_count": 51,
   "metadata": {
    "ExecuteTime": {
     "end_time": "2021-10-17T06:21:26.408324Z",
     "start_time": "2021-10-17T06:21:26.404417Z"
    }
   },
   "outputs": [
    {
     "data": {
      "text/plain": [
       "15"
      ]
     },
     "execution_count": 51,
     "metadata": {},
     "output_type": "execute_result"
    }
   ],
   "source": [
    "sum(map(int, str(12345)))"
   ]
  },
  {
   "cell_type": "markdown",
   "metadata": {},
   "source": [
    "# string"
   ]
  },
  {
   "cell_type": "markdown",
   "metadata": {},
   "source": [
    "## 1-1"
   ]
  },
  {
   "cell_type": "code",
   "execution_count": 52,
   "metadata": {
    "ExecuteTime": {
     "end_time": "2021-10-17T06:27:14.088956Z",
     "start_time": "2021-10-17T06:27:14.086047Z"
    }
   },
   "outputs": [],
   "source": [
    "# 字串處理, 將空白轉換成對應的逗點根句點\n",
    "# 輸出結果：\n",
    "'''\n",
    "昔人已乘黃鶴去，此地空餘黃鶴樓。\n",
    "黃鶴一去不復返，白雲千載空悠悠。\n",
    "晴川歷歷漢陽樹，芳草萋萋鸚鵡洲。\n",
    "日暮鄉關何處是，煙波江上使人愁。\n",
    "'''\n",
    "\n",
    "raw_data = \"昔人已乘黃鶴去  此地空餘黃鶴樓 黃鶴一去不復返   白雲千載空悠悠 晴川歷歷漢陽樹 芳草萋萋鸚鵡洲  日暮鄉關何處是 煙波江上使人愁\" \n",
    "\n",
    "# poem = \n"
   ]
  },
  {
   "cell_type": "code",
   "execution_count": 64,
   "metadata": {
    "ExecuteTime": {
     "end_time": "2021-10-17T06:32:45.371186Z",
     "start_time": "2021-10-17T06:32:45.367071Z"
    }
   },
   "outputs": [
    {
     "name": "stdout",
     "output_type": "stream",
     "text": [
      "昔人已乘黃鶴去，此地空餘黃鶴樓。\n",
      "黃鶴一去不復返，白雲千載空悠悠。\n",
      "晴川歷歷漢陽樹，芳草萋萋鸚鵡洲。\n",
      "日暮鄉關何處是，煙波江上使人愁。\n",
      "\n"
     ]
    }
   ],
   "source": [
    "# poem\n",
    "import re\n",
    "print(\"\".join([x + \"。\\n\" if i % 2 else x + \"，\" \n",
    "               for i, x in enumerate(re.split(\"\\s+\", raw_data))]))"
   ]
  },
  {
   "cell_type": "code",
   "execution_count": 66,
   "metadata": {
    "ExecuteTime": {
     "end_time": "2021-10-17T06:33:24.040267Z",
     "start_time": "2021-10-17T06:33:24.036202Z"
    }
   },
   "outputs": [
    {
     "data": {
      "text/plain": [
       "['昔人已乘黃鶴去',\n",
       " '此地空餘黃鶴樓',\n",
       " '黃鶴一去不復返',\n",
       " '白雲千載空悠悠',\n",
       " '晴川歷歷漢陽樹',\n",
       " '芳草萋萋鸚鵡洲',\n",
       " '日暮鄉關何處是',\n",
       " '煙波江上使人愁']"
      ]
     },
     "execution_count": 66,
     "metadata": {},
     "output_type": "execute_result"
    }
   ],
   "source": [
    "list(filter(lambda x: x, raw_data.split(\" \")))"
   ]
  },
  {
   "cell_type": "markdown",
   "metadata": {},
   "source": [
    "## 1-2"
   ]
  },
  {
   "cell_type": "code",
   "execution_count": null,
   "metadata": {},
   "outputs": [],
   "source": [
    "# 找出詩詞的押韻字"
   ]
  },
  {
   "cell_type": "code",
   "execution_count": 70,
   "metadata": {
    "ExecuteTime": {
     "end_time": "2021-10-17T06:36:30.534425Z",
     "start_time": "2021-10-17T06:36:30.529987Z"
    }
   },
   "outputs": [
    {
     "data": {
      "text/plain": [
       "['樓', '悠', '洲', '愁']"
      ]
     },
     "execution_count": 70,
     "metadata": {},
     "output_type": "execute_result"
    }
   ],
   "source": [
    "list(map(lambda x: x[1][-1], \n",
    "         filter(lambda x: x[0] % 2, \n",
    "                enumerate(re.split(\"\\s+\", raw_data)))))"
   ]
  },
  {
   "cell_type": "markdown",
   "metadata": {},
   "source": [
    "# list"
   ]
  },
  {
   "cell_type": "markdown",
   "metadata": {},
   "source": [
    "## 1-1"
   ]
  },
  {
   "cell_type": "code",
   "execution_count": 75,
   "metadata": {
    "ExecuteTime": {
     "end_time": "2021-10-17T06:48:05.412419Z",
     "start_time": "2021-10-17T06:48:03.992838Z"
    }
   },
   "outputs": [
    {
     "name": "stdout",
     "output_type": "stream",
     "text": [
      "10\n"
     ]
    },
    {
     "data": {
      "text/plain": [
       "[1, 3, 5, 7, 9]"
      ]
     },
     "execution_count": 75,
     "metadata": {},
     "output_type": "execute_result"
    }
   ],
   "source": [
    "# 輸入一個數字，抓出從零到該數字中，奇數資料並存成列表\n",
    "number = int(input())\n",
    "[x for x in range(0, number) if x % 2]\n",
    "\n",
    "## list comprehension"
   ]
  },
  {
   "cell_type": "markdown",
   "metadata": {},
   "source": [
    "## 1-2"
   ]
  },
  {
   "cell_type": "code",
   "execution_count": 76,
   "metadata": {
    "ExecuteTime": {
     "end_time": "2021-10-17T06:48:14.470680Z",
     "start_time": "2021-10-17T06:48:13.119267Z"
    }
   },
   "outputs": [
    {
     "name": "stdout",
     "output_type": "stream",
     "text": [
      "10\n"
     ]
    },
    {
     "data": {
      "text/plain": [
       "[0, 2, 4, 6, 8]"
      ]
     },
     "execution_count": 76,
     "metadata": {},
     "output_type": "execute_result"
    }
   ],
   "source": [
    "# 輸入一個數字，抓出從零到該數字中，抓出偶數資料並存成列表\n",
    "number = int(input())\n",
    "[x for x in range(0, number) if x % 2 == 0]\n",
    "## list comprehension"
   ]
  },
  {
   "cell_type": "markdown",
   "metadata": {},
   "source": [
    "## 1-3"
   ]
  },
  {
   "cell_type": "code",
   "execution_count": 78,
   "metadata": {
    "ExecuteTime": {
     "end_time": "2021-10-17T06:49:33.065185Z",
     "start_time": "2021-10-17T06:49:30.993712Z"
    }
   },
   "outputs": [
    {
     "name": "stdout",
     "output_type": "stream",
     "text": [
      "10\n"
     ]
    },
    {
     "data": {
      "text/plain": [
       "[[1, 3, 5, 7, 9], [2, 4, 6, 8]]"
      ]
     },
     "execution_count": 78,
     "metadata": {},
     "output_type": "execute_result"
    }
   ],
   "source": [
    "# 輸入一個數字，抓出從零到該數字中，奇數偶數分開存成二維資料\n",
    "# [[1, 3, 5, ...],\n",
    "#  [2, 4, 6, ...]]\n",
    "number = int(input())\n",
    "answer = [[], []]\n",
    "for x in range(1, number):\n",
    "    if x % 2:\n",
    "        answer[0].append(x)\n",
    "    else:\n",
    "        answer[1].append(x)\n"
   ]
  },
  {
   "cell_type": "code",
   "execution_count": null,
   "metadata": {},
   "outputs": [],
   "source": []
  },
  {
   "cell_type": "code",
   "execution_count": null,
   "metadata": {},
   "outputs": [],
   "source": []
  },
  {
   "cell_type": "markdown",
   "metadata": {},
   "source": [
    "# dict"
   ]
  },
  {
   "cell_type": "markdown",
   "metadata": {},
   "source": [
    "## 1-1"
   ]
  },
  {
   "cell_type": "code",
   "execution_count": 80,
   "metadata": {
    "ExecuteTime": {
     "end_time": "2021-10-17T07:00:52.424179Z",
     "start_time": "2021-10-17T07:00:52.418044Z"
    }
   },
   "outputs": [
    {
     "data": {
      "text/plain": [
       "{'Python': 55,\n",
       " 'Java': 44,\n",
       " 'Sqoop': 71,\n",
       " 'Hadoop': 97,\n",
       " 'SQL': 93,\n",
       " 'Spark': 93,\n",
       " 'Airflow': 82,\n",
       " 'Flink': 44,\n",
       " 'FastAPI': 86,\n",
       " 'Data Structure': 45}"
      ]
     },
     "execution_count": 80,
     "metadata": {},
     "output_type": "execute_result"
    }
   ],
   "source": [
    "datas = [('Python', 55),\n",
    "         ('Java', 44),\n",
    "         ('Sqoop', 71),\n",
    "         ('Hadoop', 97),\n",
    "         ('SQL', 93),\n",
    "         ('Spark', 93),\n",
    "         ('Airflow', 82),\n",
    "         ('Flink', 44),\n",
    "         ('FastAPI', 86),\n",
    "         ('Data Structure', 45)]\n",
    "# 將科目與成績資料寫進字典裡\n",
    "# eg. {\"Python\": 55}\n",
    "subject_scores = dict(datas)\n",
    "# for x in datas:\n",
    "#     subject_scores[x[0]] = x[1]"
   ]
  },
  {
   "cell_type": "markdown",
   "metadata": {},
   "source": [
    "## 1-2"
   ]
  },
  {
   "cell_type": "code",
   "execution_count": null,
   "metadata": {
    "code_folding": []
   },
   "outputs": [],
   "source": [
    "# 從 1-1 的結果找出不及格的科目"
   ]
  },
  {
   "cell_type": "code",
   "execution_count": 81,
   "metadata": {
    "ExecuteTime": {
     "end_time": "2021-10-17T07:02:39.986890Z",
     "start_time": "2021-10-17T07:02:39.983738Z"
    }
   },
   "outputs": [
    {
     "name": "stdout",
     "output_type": "stream",
     "text": [
      "Python\n",
      "Java\n",
      "Flink\n",
      "Data Structure\n"
     ]
    }
   ],
   "source": [
    "for subject in subject_scores:\n",
    "    if subject_scores[subject] < 60:\n",
    "        print(subject)"
   ]
  },
  {
   "cell_type": "markdown",
   "metadata": {},
   "source": [
    "## 2-1"
   ]
  },
  {
   "cell_type": "code",
   "execution_count": null,
   "metadata": {},
   "outputs": [],
   "source": [
    "# 將學生、科目、成績寫進字典裡\n",
    "# eg. {'student1': {\"Python\": 45, \"Java\": 82}, 'student2': {\"Python\":60, \"Java\": 99}}"
   ]
  },
  {
   "cell_type": "code",
   "execution_count": 1,
   "metadata": {
    "ExecuteTime": {
     "end_time": "2021-10-17T07:22:33.517960Z",
     "start_time": "2021-10-17T07:22:33.514696Z"
    },
    "code_folding": []
   },
   "outputs": [],
   "source": [
    "from random import randint\n",
    "import json\n",
    "with open(\"./dict_test2.json\", 'r') as f:\n",
    "    datas = json.loads(f.read())"
   ]
  },
  {
   "cell_type": "code",
   "execution_count": 4,
   "metadata": {
    "ExecuteTime": {
     "end_time": "2021-10-17T07:24:35.971221Z",
     "start_time": "2021-10-17T07:24:35.966182Z"
    },
    "collapsed": true
   },
   "outputs": [
    {
     "data": {
      "text/plain": [
       "{'student1': {'Python': 45,\n",
       "  'Java': 82,\n",
       "  'Sqoop': 67,\n",
       "  'Hadoop': 42,\n",
       "  'SQL': 56,\n",
       "  'Spark': 71,\n",
       "  'Airflow': 63,\n",
       "  'Flink': 92,\n",
       "  'FastAPI': 98,\n",
       "  'Data Structure': 69},\n",
       " 'student2': {'Python': 92,\n",
       "  'Java': 66,\n",
       "  'Sqoop': 73,\n",
       "  'Hadoop': 79,\n",
       "  'SQL': 49,\n",
       "  'Spark': 68,\n",
       "  'Airflow': 73,\n",
       "  'Flink': 76,\n",
       "  'FastAPI': 45,\n",
       "  'Data Structure': 99},\n",
       " 'student3': {'Python': 55,\n",
       "  'Java': 90,\n",
       "  'Sqoop': 73,\n",
       "  'Hadoop': 44,\n",
       "  'SQL': 48,\n",
       "  'Spark': 73,\n",
       "  'Airflow': 81,\n",
       "  'Flink': 40,\n",
       "  'FastAPI': 60,\n",
       "  'Data Structure': 62},\n",
       " 'student4': {'Python': 41,\n",
       "  'Java': 86,\n",
       "  'Sqoop': 51,\n",
       "  'Hadoop': 63,\n",
       "  'SQL': 89,\n",
       "  'Spark': 87,\n",
       "  'Airflow': 100,\n",
       "  'Flink': 73,\n",
       "  'FastAPI': 49,\n",
       "  'Data Structure': 55}}"
      ]
     },
     "execution_count": 4,
     "metadata": {},
     "output_type": "execute_result"
    }
   ],
   "source": [
    "students_scores = {}\n",
    "for data in datas:\n",
    "    students_scores[data[0]] = dict(data[1])\n",
    "students_scores"
   ]
  },
  {
   "cell_type": "markdown",
   "metadata": {},
   "source": [
    "## 2-2"
   ]
  },
  {
   "cell_type": "code",
   "execution_count": 8,
   "metadata": {
    "ExecuteTime": {
     "end_time": "2021-10-17T07:35:51.246173Z",
     "start_time": "2021-10-17T07:35:51.240485Z"
    }
   },
   "outputs": [
    {
     "data": {
      "text/plain": [
       "['student2']"
      ]
     },
     "execution_count": 8,
     "metadata": {},
     "output_type": "execute_result"
    }
   ],
   "source": [
    "# 從 2-1 的結果找出總分最高的學生們\n",
    "highest_total_score = 0\n",
    "highest_score_students = []\n",
    "for student in students_scores:\n",
    "    total_score = sum(students_scores[student].values())\n",
    "    if total_score == highest_total_score:\n",
    "        highest_score_students.append(student)\n",
    "    elif total_score > highest_total_score:\n",
    "        highest_total_score = total_score\n",
    "        highest_score_students = [student]\n",
    "    else:\n",
    "        pass\n",
    "highest_score_students"
   ]
  },
  {
   "cell_type": "markdown",
   "metadata": {},
   "source": [
    "## 2-3"
   ]
  },
  {
   "cell_type": "code",
   "execution_count": 11,
   "metadata": {
    "ExecuteTime": {
     "end_time": "2021-10-17T07:49:39.408640Z",
     "start_time": "2021-10-17T07:49:39.401914Z"
    }
   },
   "outputs": [
    {
     "name": "stdout",
     "output_type": "stream",
     "text": [
      "student1 3\n",
      "student2 2\n",
      "student3 4\n",
      "student4 4\n"
     ]
    },
    {
     "data": {
      "text/plain": [
       "['student3', 'student4']"
      ]
     },
     "execution_count": 11,
     "metadata": {},
     "output_type": "execute_result"
    }
   ],
   "source": [
    "# 從 2-1 的結果找出不及格科目最多的學生們\n",
    "most_failed_subjects = 0\n",
    "most_failed_students = []\n",
    "\n",
    "for student in students_scores:\n",
    "    total_failed_subjects = len(list(filter(lambda x: x < 60, students_scores[student].values())))\n",
    "    print(student, total_failed_subjects)\n",
    "    if total_failed_subjects == most_failed_subjects:\n",
    "        most_failed_students.append(student)\n",
    "    elif total_failed_subjects > most_failed_subjects:\n",
    "        most_failed_subjects = total_failed_subjects\n",
    "        most_failed_students = [student]\n",
    "    else:\n",
    "        pass\n",
    "most_failed_students"
   ]
  },
  {
   "cell_type": "markdown",
   "metadata": {},
   "source": [
    "## 2-4"
   ]
  },
  {
   "cell_type": "code",
   "execution_count": 16,
   "metadata": {
    "ExecuteTime": {
     "end_time": "2021-10-17T08:09:24.451165Z",
     "start_time": "2021-10-17T08:09:24.444477Z"
    }
   },
   "outputs": [
    {
     "data": {
      "text/plain": [
       "{'Python': 58.25,\n",
       " 'Java': 81.0,\n",
       " 'Sqoop': 66.0,\n",
       " 'Hadoop': 57.0,\n",
       " 'SQL': 60.5,\n",
       " 'Spark': 74.75,\n",
       " 'Airflow': 79.25,\n",
       " 'Flink': 70.25,\n",
       " 'FastAPI': 63.0,\n",
       " 'Data Structure': 71.25}"
      ]
     },
     "execution_count": 16,
     "metadata": {},
     "output_type": "execute_result"
    }
   ],
   "source": [
    "# 從 2-1 的結果找出班上各科目的平均分數\n",
    "\n",
    "subject_scores = {}\n",
    "# for student in students_scores:\n",
    "#     for subject, score in students_scores[student].items():\n",
    "#         if subject_scores.get(subject):\n",
    "#             subject_scores[subject].append(score)\n",
    "#         else:\n",
    "#             subject_scores[subject] = [score]\n",
    "# for subject in subject_scores:\n",
    "#     scores = subject_scores[subject]\n",
    "#     subject_scores[subject] = sum(scores) / len(scores)\n",
    "# subject_scores   \n",
    "\n",
    "total_students = len(students_scores)\n",
    "for student in students_scores:\n",
    "    for subject, score in students_scores[student].items():\n",
    "        subject_scores[subject] = subject_scores.get(subject, 0) + (score/total_students)\n",
    "subject_scores"
   ]
  },
  {
   "cell_type": "code",
   "execution_count": null,
   "metadata": {},
   "outputs": [],
   "source": []
  },
  {
   "cell_type": "markdown",
   "metadata": {},
   "source": [
    "## 2-5"
   ]
  },
  {
   "cell_type": "code",
   "execution_count": 20,
   "metadata": {
    "ExecuteTime": {
     "end_time": "2021-10-17T08:22:12.934182Z",
     "start_time": "2021-10-17T08:22:12.929613Z"
    },
    "scrolled": true
   },
   "outputs": [
    {
     "data": {
      "text/plain": [
       "{'student1': {'Python': 45,\n",
       "  'Java': 82,\n",
       "  'Sqoop': 67,\n",
       "  'Hadoop': 42,\n",
       "  'SQL': 56,\n",
       "  'Spark': 71,\n",
       "  'Airflow': 63,\n",
       "  'Flink': 92,\n",
       "  'FastAPI': 98,\n",
       "  'Data Structure': 69},\n",
       " 'student2': {'Python': 92,\n",
       "  'Java': 66,\n",
       "  'Sqoop': 73,\n",
       "  'Hadoop': 79,\n",
       "  'SQL': 49,\n",
       "  'Spark': 68,\n",
       "  'Airflow': 73,\n",
       "  'Flink': 76,\n",
       "  'FastAPI': 45,\n",
       "  'Data Structure': 99},\n",
       " 'student3': {'Python': 55,\n",
       "  'Java': 90,\n",
       "  'Sqoop': 73,\n",
       "  'Hadoop': 44,\n",
       "  'SQL': 48,\n",
       "  'Spark': 73,\n",
       "  'Airflow': 81,\n",
       "  'Flink': 40,\n",
       "  'FastAPI': 60,\n",
       "  'Data Structure': 62},\n",
       " 'student4': {'Python': 41,\n",
       "  'Java': 86,\n",
       "  'Sqoop': 51,\n",
       "  'Hadoop': 63,\n",
       "  'SQL': 89,\n",
       "  'Spark': 87,\n",
       "  'Airflow': 100,\n",
       "  'Flink': 73,\n",
       "  'FastAPI': 49,\n",
       "  'Data Structure': 55}}"
      ]
     },
     "execution_count": 20,
     "metadata": {},
     "output_type": "execute_result"
    }
   ],
   "source": [
    "students_scores"
   ]
  },
  {
   "cell_type": "code",
   "execution_count": 22,
   "metadata": {
    "ExecuteTime": {
     "end_time": "2021-10-17T08:28:03.292734Z",
     "start_time": "2021-10-17T08:28:03.286159Z"
    },
    "collapsed": true
   },
   "outputs": [
    {
     "data": {
      "text/plain": [
       "{'student1': {'Python': 67.0820393249937,\n",
       "  'Java': 82,\n",
       "  'Sqoop': 67,\n",
       "  'Hadoop': 64.8074069840786,\n",
       "  'SQL': 56,\n",
       "  'Spark': 71,\n",
       "  'Airflow': 63,\n",
       "  'Flink': 92,\n",
       "  'FastAPI': 98,\n",
       "  'Data Structure': 69},\n",
       " 'student2': {'Python': 95.91663046625439,\n",
       "  'Java': 66,\n",
       "  'Sqoop': 73,\n",
       "  'Hadoop': 88.88194417315589,\n",
       "  'SQL': 49,\n",
       "  'Spark': 68,\n",
       "  'Airflow': 73,\n",
       "  'Flink': 76,\n",
       "  'FastAPI': 45,\n",
       "  'Data Structure': 99},\n",
       " 'student3': {'Python': 74.16198487095663,\n",
       "  'Java': 90,\n",
       "  'Sqoop': 73,\n",
       "  'Hadoop': 66.33249580710799,\n",
       "  'SQL': 48,\n",
       "  'Spark': 73,\n",
       "  'Airflow': 81,\n",
       "  'Flink': 40,\n",
       "  'FastAPI': 60,\n",
       "  'Data Structure': 62},\n",
       " 'student4': {'Python': 64.03124237432849,\n",
       "  'Java': 86,\n",
       "  'Sqoop': 51,\n",
       "  'Hadoop': 79.37253933193772,\n",
       "  'SQL': 89,\n",
       "  'Spark': 87,\n",
       "  'Airflow': 100,\n",
       "  'Flink': 73,\n",
       "  'FastAPI': 49,\n",
       "  'Data Structure': 55}}"
      ]
     },
     "execution_count": 22,
     "metadata": {},
     "output_type": "execute_result"
    }
   ],
   "source": [
    "# 為了調整各科分數好看一點，所有平均分數不及格的科目，分數都開根號乘以 10\n",
    "# 並回傳最後的結果\n",
    "failed_subjects = list(map(lambda x: x[0], filter(lambda x: x[1] < 60, subject_scores.items())))\n",
    "failed_subjects\n",
    "for subjects in students_scores.values():\n",
    "    for subject in failed_subjects:\n",
    "        subjects[subject] = (subjects[subject]**0.5)*10\n",
    "students_scores\n",
    "        \n",
    "    \n"
   ]
  },
  {
   "cell_type": "code",
   "execution_count": null,
   "metadata": {},
   "outputs": [],
   "source": []
  }
 ],
 "metadata": {
  "kernelspec": {
   "display_name": "Python 3",
   "language": "python",
   "name": "python3"
  },
  "language_info": {
   "codemirror_mode": {
    "name": "ipython",
    "version": 3
   },
   "file_extension": ".py",
   "mimetype": "text/x-python",
   "name": "python",
   "nbconvert_exporter": "python",
   "pygments_lexer": "ipython3",
   "version": "3.7.3"
  },
  "toc": {
   "base_numbering": 1,
   "nav_menu": {},
   "number_sections": false,
   "sideBar": true,
   "skip_h1_title": false,
   "title_cell": "Table of Contents",
   "title_sidebar": "Contents",
   "toc_cell": false,
   "toc_position": {},
   "toc_section_display": true,
   "toc_window_display": false
  },
  "varInspector": {
   "cols": {
    "lenName": 16,
    "lenType": 16,
    "lenVar": 40
   },
   "kernels_config": {
    "python": {
     "delete_cmd_postfix": "",
     "delete_cmd_prefix": "del ",
     "library": "var_list.py",
     "varRefreshCmd": "print(var_dic_list())"
    },
    "r": {
     "delete_cmd_postfix": ") ",
     "delete_cmd_prefix": "rm(",
     "library": "var_list.r",
     "varRefreshCmd": "cat(var_dic_list()) "
    }
   },
   "types_to_exclude": [
    "module",
    "function",
    "builtin_function_or_method",
    "instance",
    "_Feature"
   ],
   "window_display": false
  }
 },
 "nbformat": 4,
 "nbformat_minor": 2
}
