{
 "cells": [
  {
   "cell_type": "markdown",
   "metadata": {},
   "source": [
    "## move zero to the end\n",
    "> 將所有的 0 移到最後面"
   ]
  },
  {
   "cell_type": "code",
   "execution_count": 1,
   "metadata": {
    "ExecuteTime": {
     "end_time": "2021-10-29T11:42:04.397348Z",
     "start_time": "2021-10-29T11:42:04.381247Z"
    },
    "collapsed": true
   },
   "outputs": [
    {
     "name": "stdout",
     "output_type": "stream",
     "text": [
      "    *\n",
      "[1, 2, 0, 5, 0, 31, 54, 0, 12, 11]\n",
      "\n",
      "       *\n",
      "[1, 2, 0, 5, 0, 31, 54, 0, 12, 11]\n",
      "\n",
      "       *\n",
      "[1, 2, 0, 5, 0, 31, 54, 0, 12, 11]\n",
      "\n",
      "          *\n",
      "[1, 2, 5, 0, 0, 31, 54, 0, 12, 11]\n",
      "\n",
      "          *\n",
      "[1, 2, 5, 0, 0, 31, 54, 0, 12, 11]\n",
      "\n",
      "              *\n",
      "[1, 2, 5, 31, 0, 0, 54, 0, 12, 11]\n",
      "\n",
      "                  *\n",
      "[1, 2, 5, 31, 54, 0, 0, 0, 12, 11]\n",
      "\n",
      "                  *\n",
      "[1, 2, 5, 31, 54, 0, 0, 0, 12, 11]\n",
      "\n",
      "                      *\n",
      "[1, 2, 5, 31, 54, 12, 0, 0, 0, 11]\n",
      "\n",
      "                          *\n",
      "[1, 2, 5, 31, 54, 12, 11, 0, 0, 0]\n",
      "\n"
     ]
    },
    {
     "data": {
      "text/plain": [
       "[1, 2, 5, 31, 54, 12, 11, 0, 0, 0]"
      ]
     },
     "execution_count": 1,
     "metadata": {},
     "output_type": "execute_result"
    }
   ],
   "source": [
    "sample = [1, 2, 0, 5, 0, 31, 54, 0, 12, 11]\n",
    "# 不要產生新的 list\n",
    "\n",
    "def move_zero(data):\n",
    "    zero_pointer = 0\n",
    "    for i, v in enumerate(data):\n",
    "        if v != 0:\n",
    "            data[i], data[zero_pointer] = data[zero_pointer], v\n",
    "            zero_pointer += 1\n",
    "        print(\" \"*(len(str(data[:zero_pointer]))), \"*\")\n",
    "        print(data, end=\"\\n\\n\")\n",
    "    return data\n",
    "move_zero(sample)"
   ]
  },
  {
   "cell_type": "markdown",
   "metadata": {},
   "source": [
    "## Single Number\n",
    "> 判斷 list 內沒有重複出現的數字\n",
    "* 所有的數字最多只會重複兩次"
   ]
  },
  {
   "cell_type": "code",
   "execution_count": 3,
   "metadata": {
    "ExecuteTime": {
     "end_time": "2021-10-29T12:02:48.739369Z",
     "start_time": "2021-10-29T12:02:48.731870Z"
    }
   },
   "outputs": [
    {
     "data": {
      "text/plain": [
       "3"
      ]
     },
     "execution_count": 3,
     "metadata": {},
     "output_type": "execute_result"
    }
   ],
   "source": [
    "sample1 = [1, 1, 2, 2, 3, 4, 4]\n",
    "sample2 = [2]\n",
    "\n",
    "def find_single(data):\n",
    "    duplicate_set = set()\n",
    "    answer_set = set()\n",
    "    for x in data:\n",
    "        if x in duplicate_set:\n",
    "            pass\n",
    "        elif x in answer_set:\n",
    "            duplicate_set.add(x)\n",
    "            answer_set.remove(x)\n",
    "        else:\n",
    "            answer_set.add(x)\n",
    "    return answer_set.pop()\n",
    "\n",
    "find_single(sample1)    "
   ]
  },
  {
   "cell_type": "markdown",
   "metadata": {},
   "source": [
    "## 矩陣旋轉\n",
    "> 將矩陣向左或向右旋轉 90 度"
   ]
  },
  {
   "cell_type": "code",
   "execution_count": 8,
   "metadata": {
    "ExecuteTime": {
     "end_time": "2021-10-29T12:39:58.260776Z",
     "start_time": "2021-10-29T12:39:58.250901Z"
    }
   },
   "outputs": [
    {
     "data": {
      "text/plain": [
       "[(7, 4, 1), (8, 5, 2), (9, 6, 3)]"
      ]
     },
     "execution_count": 8,
     "metadata": {},
     "output_type": "execute_result"
    }
   ],
   "source": [
    "sample = [\n",
    "    [1, 2, 3],\n",
    "    [4, 5, 6],\n",
    "    [7, 8, 9]\n",
    "]\n",
    "\n",
    "# 向右旋轉\n",
    "output = [\n",
    "    [7, 4, 1],\n",
    "    [8, 5, 2],\n",
    "    [9, 6, 3]\n",
    "]\n",
    "\n",
    "# 向左旋轉\n",
    "output = [\n",
    "    [3, 6, 9],\n",
    "    [2, 5, 8],\n",
    "    [1, 4, 7]\n",
    "]\n",
    "\n",
    "# def rotate(data, direction=\"right\"):\n",
    "#     \"\"\"\n",
    "#     可以選擇向左旋轉或是向右旋轉\n",
    "#     \"\"\"\n",
    "#     if direction == \"right\":\n",
    "#         tmp_data = data[::-1]\n",
    "#         return [list(map(lambda x: x[i], tmp_data)) for i in range(len(tmp_data))]\n",
    "    \n",
    "#     elif direction == \"left\":\n",
    "#         return [list(map(lambda x: x[i], data)) for i in range(len(data))][::-1]\n",
    "#     else:\n",
    "#         return\n",
    "\n",
    "def rotate(data, direction=\"right\"):\n",
    "    \"\"\"\n",
    "    可以選擇向左旋轉或是向右旋轉\n",
    "    \"\"\"\n",
    "    if direction == \"right\":\n",
    "        return list(zip(*data[::-1]))\n",
    "    \n",
    "    elif direction == \"left\":\n",
    "        return list(zip(*data))[::-1]\n",
    "    else:\n",
    "        return\n",
    "\n",
    "rotate(sample, direction=\"right\")"
   ]
  },
  {
   "cell_type": "markdown",
   "metadata": {},
   "source": [
    "## 迴文字串判斷\n"
   ]
  },
  {
   "cell_type": "code",
   "execution_count": 11,
   "metadata": {
    "ExecuteTime": {
     "end_time": "2021-10-29T13:12:13.443093Z",
     "start_time": "2021-10-29T13:12:13.438486Z"
    }
   },
   "outputs": [
    {
     "data": {
      "text/plain": [
       "False"
      ]
     },
     "execution_count": 11,
     "metadata": {},
     "output_type": "execute_result"
    }
   ],
   "source": [
    "sample1 = \"abcdedcba\"\n",
    "sample2 = \"abcdeedcba\"\n",
    "sample3 = \"abcda\"\n",
    "\n",
    "def isPalindrome(sentence):\n",
    "    return sentence == sentence[::-1]\n",
    "\n",
    "isPalindrome(sample3)"
   ]
  },
  {
   "cell_type": "markdown",
   "metadata": {},
   "source": [
    "## longest common prefix\n",
    "> 找出 list 中共同且最長的開頭片段"
   ]
  },
  {
   "cell_type": "code",
   "execution_count": null,
   "metadata": {},
   "outputs": [],
   "source": [
    "sample = [\"flower\",\"flow\",\"flight\"]\n",
    "\n",
    "def longest_common_prefix(data):\n",
    "    common_prefix = data[0]\n",
    "    for word in data[1:]:\n",
    "        if common_prefix.startswith(word):\n",
    "            common_prefix = word\n",
    "        else:\n",
    "            for i in range(len(word)):\n",
    "                if not common_prefix.startswith(word[:i+1]):\n",
    "                    common_prefix = word[:i]\n",
    "                    break\n",
    "    return common_prefix\n",
    "\n",
    "longest_common_prefix(sample)"
   ]
  },
  {
   "cell_type": "markdown",
   "metadata": {},
   "source": [
    "## 羅馬數字轉 int\n",
    "> 數字最大只到 3000"
   ]
  },
  {
   "cell_type": "code",
   "execution_count": null,
   "metadata": {},
   "outputs": [],
   "source": [
    "M = 1000\n",
    "D = 500\n",
    "C = 100\n",
    "L = 50\n",
    "X = 10\n",
    "V = 5\n",
    "I = 1\n",
    "\n",
    "VIII = 8\n",
    "IX = 9\n",
    "\n",
    "def roma_to_int(data):\n",
    "    pass"
   ]
  },
  {
   "cell_type": "markdown",
   "metadata": {},
   "source": [
    "## int 轉羅馬數字"
   ]
  },
  {
   "cell_type": "code",
   "execution_count": null,
   "metadata": {},
   "outputs": [],
   "source": [
    "def int_to_roma(data):\n",
    "    pass"
   ]
  },
  {
   "cell_type": "code",
   "execution_count": null,
   "metadata": {},
   "outputs": [],
   "source": []
  },
  {
   "cell_type": "markdown",
   "metadata": {},
   "source": [
    "## k-means\n",
    "* 實作簡單的分群演算法\n",
    "* 針對二維的資料(每個維度最高在 100) <-- 200 個點\n",
    "* 給定隨機個 k 進行分群<- 最多 10\n",
    "* kmeans 流程\n",
    "    1. 隨機 k 個中心\n",
    "    2. 對所有資料點找距離最近的中心，並分成 k 個組\n",
    "    3. 每一組重新計算新的中心\n",
    "    4. 重複執行 2~3\n",
    "    5. 直到中心點不再變動"
   ]
  },
  {
   "cell_type": "code",
   "execution_count": 12,
   "metadata": {
    "ExecuteTime": {
     "end_time": "2021-10-29T13:49:31.545112Z",
     "start_time": "2021-10-29T13:49:31.244975Z"
    }
   },
   "outputs": [],
   "source": [
    "# 輔助繪圖所用\n",
    "import matplotlib.pyplot as plt\n",
    "from itertools import count\n",
    "from random import randint\n",
    "from IPython.display import clear_output\n",
    "colors = ['#1f77b4', '#ff7f0e', '#2ca02c', '#d62728', '#9467bd', '#8c564b', '#e377c2', '#7f7f7f', '#bcbd22', '#17becf']\n",
    "minimum_bound = 0\n",
    "maximun_bound = 100\n",
    "\n",
    "\n",
    "# 每個 過程可以呼叫這個 function 去畫出當下的樣貌，但請注意資料格式\n",
    "def stage_plot(datas):\n",
    "    \"\"\"\n",
    "    datas should be {center: datas}\n",
    "    eg. {(50, 50): [(49, 48), (45, 44)...]}\n",
    "    \"\"\"\n",
    "    clear_output(wait=True)\n",
    "    counter = count(0)\n",
    "    plt.figure(figsize=(8, 8))\n",
    "    plt.xlim((minimum_bound - 1, maximun_bound + 1))\n",
    "    plt.ylim((minimum_bound - 1, maximun_bound + 1))\n",
    "    for center, data in datas.items():\n",
    "        color_index = next(counter)\n",
    "        xs = [x[0] for x in data]\n",
    "        ys = [x[1] for x in data]\n",
    "        plt.scatter(xs, ys, c=colors[color_index])\n",
    "        plt.scatter(center[0], center[1], marker=\"x\", c=colors[color_index], s=200)\n",
    "    plt.pause(1)"
   ]
  },
  {
   "cell_type": "code",
   "execution_count": 19,
   "metadata": {
    "ExecuteTime": {
     "end_time": "2021-10-29T14:03:20.768532Z",
     "start_time": "2021-10-29T14:03:20.721921Z"
    }
   },
   "outputs": [],
   "source": [
    "# 隨機資料\n",
    "from statistics import mean\n",
    "from collections import defaultdict\n",
    "from math import sqrt\n",
    "class Kmeans:\n",
    "    def __init__(self):\n",
    "        self.k = 0\n",
    "        self.cluster = None\n",
    "        self.times = 0\n",
    "        \n",
    "    def start(self, k, datas):\n",
    "        centers = {(randint(0, 100), randint(0, 100)) for _ in range(k)}\n",
    "        cluster = self.work_flow(centers, datas)\n",
    "        return \"done.\"\n",
    "        \n",
    "    def work_flow(self, centers, datas):\n",
    "        counter = count(0)\n",
    "        while True:\n",
    "            self.times = next(counter)\n",
    "            self.cluster = self.clustering(centers, datas)\n",
    "            new_centers = self.reset_centers()\n",
    "            if new_centers == centers:\n",
    "                return self.cluster\n",
    "            else:\n",
    "                centers = new_centers\n",
    "            if self.times >= 100:\n",
    "                print(\"break!!!\")\n",
    "                return None\n",
    "    \n",
    "    def reset_centers(self):\n",
    "        new_centers = {\n",
    "            (mean(map(lambda x: x[0], group)), \n",
    "             mean(map(lambda x: x[1], group))) \n",
    "            for group in self.cluster.values()\n",
    "        }\n",
    "        return new_centers\n",
    "    \n",
    "    def clustering(self, centers, datas):\n",
    "        cluster = defaultdict(list)\n",
    "        for data in datas:\n",
    "            center = min(\n",
    "                centers, \n",
    "                key=lambda x: sqrt((data[0] - x[0])**2 + (data[1] - x[1])**2)\n",
    "            )\n",
    "            cluster[center].append(data)\n",
    "        stage_plot(cluster)\n",
    "        return cluster"
   ]
  },
  {
   "cell_type": "code",
   "execution_count": 20,
   "metadata": {
    "ExecuteTime": {
     "end_time": "2021-10-29T14:03:44.365360Z",
     "start_time": "2021-10-29T14:03:33.605690Z"
    }
   },
   "outputs": [
    {
     "data": {
      "image/png": "[encoded data removed]",
      "text/plain": [
       "<Figure size 576x576 with 1 Axes>"
      ]
     },
     "metadata": {
      "needs_background": "light"
     },
     "output_type": "display_data"
    },
    {
     "data": {
      "text/plain": [
       "7"
      ]
     },
     "execution_count": 20,
     "metadata": {},
     "output_type": "execute_result"
    }
   ],
   "source": [
    "datas = [(randint(minimum_bound, maximun_bound), randint(minimum_bound, maximun_bound)) for _ in range(1000)]\n",
    "kmeans = Kmeans()\n",
    "kmeans.start(k=5, datas=datas)\n",
    "kmeans.times"
   ]
  },
  {
   "cell_type": "code",
   "execution_count": null,
   "metadata": {},
   "outputs": [],
   "source": []
  }
 ],
 "metadata": {
  "kernelspec": {
   "display_name": "Python 3",
   "language": "python",
   "name": "python3"
  },
  "language_info": {
   "codemirror_mode": {
    "name": "ipython",
    "version": 3
   },
   "file_extension": ".py",
   "mimetype": "text/x-python",
   "name": "python",
   "nbconvert_exporter": "python",
   "pygments_lexer": "ipython3",
   "version": "3.7.3"
  },
  "toc": {
   "base_numbering": 1,
   "nav_menu": {},
   "number_sections": true,
   "sideBar": true,
   "skip_h1_title": false,
   "title_cell": "Table of Contents",
   "title_sidebar": "Contents",
   "toc_cell": false,
   "toc_position": {},
   "toc_section_display": true,
   "toc_window_display": false
  },
  "varInspector": {
   "cols": {
    "lenName": 16,
    "lenType": 16,
    "lenVar": 40
   },
   "kernels_config": {
    "python": {
     "delete_cmd_postfix": "",
     "delete_cmd_prefix": "del ",
     "library": "var_list.py",
     "varRefreshCmd": "print(var_dic_list())"
    },
    "r": {
     "delete_cmd_postfix": ") ",
     "delete_cmd_prefix": "rm(",
     "library": "var_list.r",
     "varRefreshCmd": "cat(var_dic_list()) "
    }
   },
   "types_to_exclude": [
    "module",
    "function",
    "builtin_function_or_method",
    "instance",
    "_Feature"
   ],
   "window_display": false
  }
 },
 "nbformat": 4,
 "nbformat_minor": 2
}
