{
 "cells": [
  {
   "cell_type": "markdown",
   "metadata": {},
   "source": [
    "## move zero to the end\n",
    "> 將所有的 0 移到最後面"
   ]
  },
  {
   "cell_type": "code",
   "execution_count": null,
   "metadata": {},
   "outputs": [],
   "source": [
    "sample = [1, 2, 0, 5, 0, 31, 54, 0, 12, 11]\n",
    "def move_zero(data):\n",
    "    "
   ]
  },
  {
   "cell_type": "markdown",
   "metadata": {},
   "source": [
    "## Single Number\n",
    "> 判斷 list 內沒有重複出現的數字"
   ]
  },
  {
   "cell_type": "code",
   "execution_count": null,
   "metadata": {},
   "outputs": [],
   "source": [
    "\n",
    "sample1 = [1, 1, 2, 2, 3, 4, 4]\n",
    "sample2 = [2]\n",
    "def find_single(data):\n",
    "    "
   ]
  },
  {
   "cell_type": "markdown",
   "metadata": {},
   "source": [
    "## 矩陣旋轉\n",
    "> 將矩陣向左或向右旋轉 90 度"
   ]
  },
  {
   "cell_type": "code",
   "execution_count": null,
   "metadata": {
    "ExecuteTime": {
     "end_time": "2021-09-24T15:47:42.625239Z",
     "start_time": "2021-09-24T15:47:42.620947Z"
    }
   },
   "outputs": [],
   "source": [
    "sample = [\n",
    "    [1, 2, 3],\n",
    "    [4, 5, 6],\n",
    "    [7, 8, 9]\n",
    "]\n",
    "\n",
    "# 向右旋轉\n",
    "output = [\n",
    "    [7, 4, 1],\n",
    "    [8, 5, 2],\n",
    "    [9, 6, 3]\n",
    "]\n",
    "\n",
    "def rotate(data, direction=\"right\"):\n",
    "    \"\"\"\n",
    "    可以選擇向左旋轉或是向右旋轉\n",
    "    \"\"\"\n",
    "    "
   ]
  },
  {
   "cell_type": "markdown",
   "metadata": {},
   "source": [
    "## 迴文字串判斷\n"
   ]
  },
  {
   "cell_type": "code",
   "execution_count": null,
   "metadata": {},
   "outputs": [],
   "source": [
    "sample1 = \"abcdedcba\"\n",
    "sample2 = \"abcdeedcba\"\n",
    "sample3 = \"abcda\"\n",
    "\n",
    "def isPalindrome(sentence):\n",
    "    pass"
   ]
  },
  {
   "cell_type": "markdown",
   "metadata": {},
   "source": [
    "## longest common prefix\n",
    "> 找出 list 中共同且最長的開頭片段"
   ]
  },
  {
   "cell_type": "code",
   "execution_count": null,
   "metadata": {},
   "outputs": [],
   "source": [
    "sample = [\"flower\",\"flow\",\"flight\"]\n",
    "\n",
    "def longest_common_prefix(data):\n",
    "    pass"
   ]
  },
  {
   "cell_type": "markdown",
   "metadata": {},
   "source": [
    "## 羅馬數字轉 int"
   ]
  },
  {
   "cell_type": "code",
   "execution_count": null,
   "metadata": {},
   "outputs": [],
   "source": [
    "def roma_to_int(data):\n",
    "    pass"
   ]
  },
  {
   "cell_type": "markdown",
   "metadata": {},
   "source": [
    "## int 轉羅馬數字"
   ]
  },
  {
   "cell_type": "code",
   "execution_count": null,
   "metadata": {},
   "outputs": [],
   "source": [
    "def int_to_roma(data):\n",
    "    pass"
   ]
  },
  {
   "cell_type": "code",
   "execution_count": null,
   "metadata": {},
   "outputs": [],
   "source": []
  },
  {
   "cell_type": "markdown",
   "metadata": {},
   "source": [
    "## k-means\n",
    "* 實作簡單的分群演算法\n",
    "* 針對二維的資料(每個維度最高在 100) <-- 200 個點\n",
    "* 給定隨機個 k 進行分群<- 最多 10\n",
    "* kmeans 流程\n",
    "    1. 隨機 k 個中心\n",
    "    2. 對所有資料點找距離最近的中心，並分成 k 個組\n",
    "    3. 每一組重新計算新的中心\n",
    "    4. 重複執行 2~3\n",
    "    5. 直到中心點不再變動"
   ]
  },
  {
   "cell_type": "code",
   "execution_count": null,
   "metadata": {
    "ExecuteTime": {
     "end_time": "2021-10-02T15:45:24.583178Z",
     "start_time": "2021-10-02T15:45:24.283176Z"
    }
   },
   "outputs": [],
   "source": [
    "# 輔助繪圖所用\n",
    "import matplotlib.pyplot as plt\n",
    "from itertools import count\n",
    "from random import randint\n",
    "from IPython.display import clear_output\n",
    "colors = ['#1f77b4', '#ff7f0e', '#2ca02c', '#d62728', '#9467bd', '#8c564b', '#e377c2', '#7f7f7f', '#bcbd22', '#17becf']\n",
    "minimum_nound = 0\n",
    "maximun_bound = 100\n",
    "\n",
    "\n",
    "# 每個 過程可以呼叫這個 function 去畫出當下的樣貌，但請注意資料格式\n",
    "def stage_plot(datas):\n",
    "    \"\"\"\n",
    "    datas should be {center: datas}\n",
    "    eg. {(50, 50): [(49, 48), (45, 44)...]}\n",
    "    \"\"\"\n",
    "    clear_output(wait=True)\n",
    "    counter = count(0)\n",
    "    plt.figure(figsize=(8, 8))\n",
    "    plt.xlim((minimum_nound - 1, maximun_bound + 1))\n",
    "    plt.ylim((minimum_nound - 1, maximun_bound + 1))\n",
    "    for center, data in datas.items():\n",
    "        color_index = next(counter)\n",
    "        xs = [x[0] for x in data]\n",
    "        ys = [x[1] for x in data]\n",
    "        plt.scatter(xs, ys, c=colors[color_index])\n",
    "        plt.scatter(center[0], center[1], marker=\"x\", c=colors[color_index], s=200)\n",
    "    plt.pause(1)"
   ]
  },
  {
   "cell_type": "code",
   "execution_count": null,
   "metadata": {
    "ExecuteTime": {
     "end_time": "2021-10-02T15:08:08.508777Z",
     "start_time": "2021-10-02T15:08:08.504978Z"
    }
   },
   "outputs": [],
   "source": [
    "# 隨機資料\n",
    "datas = [(randint(minimum_nound, maximun_bound), randint(minimum_nound, maximun_bound)) for _ in range(200)]\n",
    "class Kmeans:\n",
    "    ..."
   ]
  },
  {
   "cell_type": "code",
   "execution_count": null,
   "metadata": {},
   "outputs": [],
   "source": []
  },
  {
   "cell_type": "code",
   "execution_count": null,
   "metadata": {},
   "outputs": [],
   "source": []
  }
 ],
 "metadata": {
  "kernelspec": {
   "display_name": "Python 3",
   "language": "python",
   "name": "python3"
  },
  "language_info": {
   "codemirror_mode": {
    "name": "ipython",
    "version": 3
   },
   "file_extension": ".py",
   "mimetype": "text/x-python",
   "name": "python",
   "nbconvert_exporter": "python",
   "pygments_lexer": "ipython3",
   "version": "3.7.3"
  },
  "toc": {
   "base_numbering": 1,
   "nav_menu": {},
   "number_sections": true,
   "sideBar": true,
   "skip_h1_title": false,
   "title_cell": "Table of Contents",
   "title_sidebar": "Contents",
   "toc_cell": false,
   "toc_position": {},
   "toc_section_display": true,
   "toc_window_display": false
  },
  "varInspector": {
   "cols": {
    "lenName": 16,
    "lenType": 16,
    "lenVar": 40
   },
   "kernels_config": {
    "python": {
     "delete_cmd_postfix": "",
     "delete_cmd_prefix": "del ",
     "library": "var_list.py",
     "varRefreshCmd": "print(var_dic_list())"
    },
    "r": {
     "delete_cmd_postfix": ") ",
     "delete_cmd_prefix": "rm(",
     "library": "var_list.r",
     "varRefreshCmd": "cat(var_dic_list()) "
    }
   },
   "types_to_exclude": [
    "module",
    "function",
    "builtin_function_or_method",
    "instance",
    "_Feature"
   ],
   "window_display": false
  }
 },
 "nbformat": 4,
 "nbformat_minor": 2
}
